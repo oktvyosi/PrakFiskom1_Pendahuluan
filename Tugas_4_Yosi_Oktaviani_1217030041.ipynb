{
  "nbformat": 4,
  "nbformat_minor": 0,
  "metadata": {
    "colab": {
      "provenance": []
    },
    "kernelspec": {
      "name": "python3",
      "display_name": "Python 3"
    },
    "language_info": {
      "name": "python"
    }
  },
  "cells": [
    {
      "cell_type": "code",
      "execution_count": null,
      "metadata": {
        "id": "RyALw8JSDIph"
      },
      "outputs": [],
      "source": []
    },
    {
      "cell_type": "markdown",
      "source": [
        "Solusi no 1"
      ],
      "metadata": {
        "id": "ROw63hqPDK4R"
      }
    },
    {
      "cell_type": "code",
      "source": [
        "import numpy as np\n",
        "\n",
        "# Membuat matriks 2x2\n",
        "M = np.array([[1, 2], [3, 4]])\n",
        "\n",
        "# Menghitung determinan matriks\n",
        "determinant = np.linalg.det(M)\n",
        "\n",
        "print('determinant:\\n', determinant)\n"
      ],
      "metadata": {
        "colab": {
          "base_uri": "https://localhost:8080/"
        },
        "id": "4NbJr1ozDNlp",
        "outputId": "169ae5b9-572f-4c34-bfdf-9c0e2c46a444"
      },
      "execution_count": 1,
      "outputs": [
        {
          "output_type": "stream",
          "name": "stdout",
          "text": [
            "determinant:\n",
            " -2.0000000000000004\n"
          ]
        }
      ]
    },
    {
      "cell_type": "markdown",
      "source": [
        "Solusi no 2"
      ],
      "metadata": {
        "id": "26oAG6EvDXQY"
      }
    },
    {
      "cell_type": "code",
      "source": [
        "# Membuat matriks 2x2\n",
        "M = np.array([[10, -22], [3, 45]])\n",
        "\n",
        "# Menghitung invers matriks\n",
        "inverse_of_M = np.linalg.inv(M)\n",
        "\n",
        "print('inverse_of_M:\\n', inverse_of_M)\n"
      ],
      "metadata": {
        "colab": {
          "base_uri": "https://localhost:8080/"
        },
        "id": "VMT0-E5TDZXA",
        "outputId": "2a9c4373-d2a3-4eda-b808-52323f7d5d91"
      },
      "execution_count": 2,
      "outputs": [
        {
          "output_type": "stream",
          "name": "stdout",
          "text": [
            "inverse_of_M:\n",
            " [[ 0.0872093   0.04263566]\n",
            " [-0.00581395  0.01937984]]\n"
          ]
        }
      ]
    },
    {
      "cell_type": "markdown",
      "source": [
        "Solusi no 3"
      ],
      "metadata": {
        "id": "XtpwFLhTDf0D"
      }
    },
    {
      "cell_type": "code",
      "source": [
        "from numpy.linalg import \\\n",
        "              cond\n",
        "A = np.array([[1,10**-10],\n",
        "              [10**-10,1]])\n",
        "print('Condition number:\\n', cond(A))\n"
      ],
      "metadata": {
        "colab": {
          "base_uri": "https://localhost:8080/"
        },
        "id": "cBGUu19TDm-3",
        "outputId": "01fb6e99-dcc6-4010-a866-94aeb56c6885"
      },
      "execution_count": 3,
      "outputs": [
        {
          "output_type": "stream",
          "name": "stdout",
          "text": [
            "Condition number:\n",
            " 1.0000000002\n"
          ]
        }
      ]
    },
    {
      "cell_type": "markdown",
      "source": [
        "Solusi no 4"
      ],
      "metadata": {
        "id": "086m3DMODoOC"
      }
    },
    {
      "cell_type": "code",
      "source": [
        "from numpy.linalg import \\\n",
        "              matrix_rank\n",
        "A = np.array([[1,2],\n",
        "              [3,4]])\n",
        "print('Rank:\\n', matrix_rank(A))\n",
        "b = np.array([[5], [6]])\n",
        "A_b = np.concatenate((A, b), axis = 1)\n",
        "print('Augmented matrix:\\n', A_b)"
      ],
      "metadata": {
        "colab": {
          "base_uri": "https://localhost:8080/"
        },
        "id": "kQvnp0kYDqmR",
        "outputId": "fe36317f-2a0c-4096-c7c9-0f541a26f648"
      },
      "execution_count": 4,
      "outputs": [
        {
          "output_type": "stream",
          "name": "stdout",
          "text": [
            "Rank:\n",
            " 2\n",
            "Augmented matrix:\n",
            " [[1 2 5]\n",
            " [3 4 6]]\n"
          ]
        }
      ]
    },
    {
      "cell_type": "markdown",
      "source": [
        "Solusi no 5"
      ],
      "metadata": {
        "id": "6ZrzsAcdDwyv"
      }
    },
    {
      "cell_type": "code",
      "source": [
        "# Tentukan matriks Anda (contoh matriks 3x3)\n",
        "A = np.array([[1, 2, 3],\n",
        "                  [4, 5, 6],\n",
        "                  [7, 8, 9]])\n",
        "\n",
        "# Hitung peringkat matriks\n",
        "rank = np.linalg.matrix_rank(A)\n",
        "\n",
        "# Hitung dimensi ruang nol\n",
        "num_columns = A.shape[1]\n",
        "nullity = num_columns - rank\n",
        "\n",
        "# Cetak hasil\n",
        "print(\"Matriks:\")\n",
        "print(A)\n",
        "print(\"Peringkat Matriks:\", rank)\n",
        "print(\"Dimensi Ruang Nol:\", nullity)"
      ],
      "metadata": {
        "colab": {
          "base_uri": "https://localhost:8080/"
        },
        "id": "I2xaV79qDy1s",
        "outputId": "5215d916-2293-4f00-b90a-11e075e15077"
      },
      "execution_count": 5,
      "outputs": [
        {
          "output_type": "stream",
          "name": "stdout",
          "text": [
            "Matriks:\n",
            "[[1 2 3]\n",
            " [4 5 6]\n",
            " [7 8 9]]\n",
            "Peringkat Matriks: 2\n",
            "Dimensi Ruang Nol: 1\n"
          ]
        }
      ]
    }
  ]
}